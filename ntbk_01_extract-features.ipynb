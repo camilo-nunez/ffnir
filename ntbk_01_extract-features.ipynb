{
 "cells": [
  {
   "cell_type": "code",
   "execution_count": 1,
   "id": "e05b71fe",
   "metadata": {},
   "outputs": [],
   "source": [
    "import warnings\n",
    "warnings.filterwarnings('ignore')\n",
    "warnings.simplefilter('ignore')"
   ]
  },
  {
   "cell_type": "markdown",
   "id": "dbe158d8",
   "metadata": {},
   "source": [
    "# Feature extraction"
   ]
  },
  {
   "cell_type": "code",
   "execution_count": 2,
   "id": "a163bfa5",
   "metadata": {},
   "outputs": [],
   "source": [
    "import glob\n",
    "import os\n",
    "import numpy as np\n",
    "\n",
    "from PIL import Image, ImageFile\n",
    "from omegaconf import OmegaConf\n",
    "\n",
    "from config.init import create_baseconfig_from_checkpoint\n",
    "from model.lgffem import LGFFEM\n",
    "\n",
    "from utils.revisitop.dataset import configdataset\n",
    "from utils.revisitop.evaluate import compute_map\n",
    "\n",
    "from tqdm import tqdm"
   ]
  },
  {
   "cell_type": "code",
   "execution_count": 3,
   "id": "eadf2da3",
   "metadata": {},
   "outputs": [],
   "source": [
    "import torch\n",
    "from torchvision.transforms import v2\n",
    "from torch.utils.data import Dataset\n",
    "\n",
    "from torchinfo import summary\n",
    "\n",
    "device = torch.device(\"cuda\" if torch.cuda.is_available() else \"cpu\")"
   ]
  },
  {
   "cell_type": "markdown",
   "id": "7d648e30",
   "metadata": {},
   "source": [
    "## Create model from checkpoint"
   ]
  },
  {
   "cell_type": "code",
   "execution_count": 4,
   "id": "3eddb9a0",
   "metadata": {},
   "outputs": [],
   "source": [
    "path_checkpoint = os.path.join('/thesis/checkpoint/20240212_2301-EMB-11_convnextv2-02_neck_512_3-00_head_A-epoch4.pth')\n",
    "checkpoint = torch.load(path_checkpoint)"
   ]
  },
  {
   "cell_type": "code",
   "execution_count": 5,
   "id": "aadade39",
   "metadata": {},
   "outputs": [
    {
     "name": "stdout",
     "output_type": "stream",
     "text": [
      "[++] Loaded neck weights. <All keys matched successfully>\n",
      "[++] Loaded head weights. <All keys matched successfully>\n"
     ]
    }
   ],
   "source": [
    "base_config = create_baseconfig_from_checkpoint(checkpoint)\n",
    "\n",
    "embedder = LGFFEM(base_config).eval().to(device)\n",
    "match_n = embedder.neck.load_state_dict(checkpoint['model_neck_state_dict'], strict = False)\n",
    "print('[++] Loaded neck weights.', match_n)\n",
    "match_h = embedder.head.load_state_dict(checkpoint['model_head_state_dict'], strict = False)\n",
    "print('[++] Loaded head weights.', match_h)"
   ]
  },
  {
   "cell_type": "code",
   "execution_count": 6,
   "id": "8278d443",
   "metadata": {},
   "outputs": [],
   "source": [
    "img_transforms = v2.Compose([\n",
    "                            v2.ToImage(),\n",
    "                            v2.Resize(size=(224, 224)),\n",
    "                            v2.ToDtype(torch.float32, scale=True),\n",
    "                            v2.Normalize(mean=[0.485, 0.456, 0.406], std=[0.229, 0.224, 0.225]),\n",
    "                          ])"
   ]
  },
  {
   "cell_type": "markdown",
   "id": "7a82a22f",
   "metadata": {},
   "source": [
    "## Extraction features dataset: `oxford5k`"
   ]
  },
  {
   "cell_type": "code",
   "execution_count": 7,
   "id": "fd42486c",
   "metadata": {},
   "outputs": [],
   "source": [
    "data_root = os.path.join('/thesis/classical/revisitop')"
   ]
  },
  {
   "cell_type": "code",
   "execution_count": 8,
   "id": "49698cae",
   "metadata": {},
   "outputs": [
    {
     "name": "stdout",
     "output_type": "stream",
     "text": [
      ">> roxford5k: Processing test dataset...\n"
     ]
    }
   ],
   "source": [
    "# Set test dataset: roxford5k | rparis6k\n",
    "test_dataset = 'roxford5k'\n",
    "\n",
    "def pil_loader(path):\n",
    "    # to avoid crashing for truncated (corrupted images)\n",
    "    ImageFile.LOAD_TRUNCATED_IMAGES = True\n",
    "    # open path as file to avoid ResourceWarning \n",
    "    # (https://github.com/python-pillow/Pillow/issues/835)\n",
    "    with open(path, 'rb') as f:\n",
    "        img = Image.open(f)\n",
    "        return img.convert('RGB')\n",
    "\n",
    "print('>> {}: Processing test dataset...'.format(test_dataset)) \n",
    "# config file for the dataset\n",
    "# separates query image list from database image list, if revisited protocol used\n",
    "cfg = configdataset(test_dataset, os.path.join(data_root, 'datasets'))"
   ]
  },
  {
   "cell_type": "code",
   "execution_count": 9,
   "id": "5df12a92",
   "metadata": {},
   "outputs": [
    {
     "name": "stderr",
     "output_type": "stream",
     "text": [
      "100%|██████████| 70/70 [00:02<00:00, 29.03it/s]\n"
     ]
    }
   ],
   "source": [
    "# query images\n",
    "qim_embs_l = []\n",
    "for i in tqdm(np.arange(cfg['nq'])):\n",
    "    qim = pil_loader(cfg['qim_fname'](cfg, i)).crop(cfg['gnd'][i]['bbx'])\n",
    "    qim = img_transforms(qim).unsqueeze(0).to(device)\n",
    "    qim_embs_l.append(embedder(qim).detach().cpu().numpy())\n",
    "\n",
    "Q = np.swapaxes(np.stack(qim_embs_l, axis=0).squeeze(1),0,1)"
   ]
  },
  {
   "cell_type": "code",
   "execution_count": 10,
   "id": "a64013c0",
   "metadata": {},
   "outputs": [
    {
     "name": "stderr",
     "output_type": "stream",
     "text": [
      "100%|██████████| 4993/4993 [02:31<00:00, 32.92it/s]\n"
     ]
    }
   ],
   "source": [
    "im_embs_l = []\n",
    "for i in tqdm(np.arange(cfg['n'])):\n",
    "    im = pil_loader(cfg['im_fname'](cfg, i))\n",
    "    im = img_transforms(im).unsqueeze(0).to(device)\n",
    "    im_embs_l.append(embedder(im).detach().cpu().numpy())\n",
    "\n",
    "X = np.swapaxes(np.stack(im_embs_l, axis=0).squeeze(1),0,1)"
   ]
  },
  {
   "cell_type": "code",
   "execution_count": null,
   "id": "71a1dc43",
   "metadata": {},
   "outputs": [],
   "source": []
  },
  {
   "cell_type": "markdown",
   "id": "f47b69ce",
   "metadata": {},
   "source": [
    "### Retrieval Option 1"
   ]
  },
  {
   "cell_type": "code",
   "execution_count": 11,
   "id": "ad93b72d",
   "metadata": {},
   "outputs": [
    {
     "name": "stdout",
     "output_type": "stream",
     "text": [
      ">> roxford5k: Retrieval...\n"
     ]
    }
   ],
   "source": [
    "# perform search\n",
    "print('>> {}: Retrieval...'.format(test_dataset))\n",
    "sim = np.dot(X.T, Q)\n",
    "ranks = np.argsort(-sim, axis=0)"
   ]
  },
  {
   "cell_type": "code",
   "execution_count": 12,
   "id": "bb9de0b7",
   "metadata": {},
   "outputs": [],
   "source": [
    "# revisited evaluation\n",
    "gnd = cfg['gnd']\n",
    "\n",
    "# evaluate ranks\n",
    "ks = [1, 5, 10]"
   ]
  },
  {
   "cell_type": "code",
   "execution_count": 13,
   "id": "1342b1a9",
   "metadata": {},
   "outputs": [],
   "source": [
    "# search for easy\n",
    "gnd_t = []\n",
    "for i in range(len(gnd)):\n",
    "    g = {}\n",
    "    g['ok'] = np.concatenate([gnd[i]['easy']])\n",
    "    g['junk'] = np.concatenate([gnd[i]['junk'], gnd[i]['hard']])\n",
    "    gnd_t.append(g)\n",
    "mapE, apsE, mprE, prsE = compute_map(ranks, gnd_t, ks)"
   ]
  },
  {
   "cell_type": "code",
   "execution_count": 14,
   "id": "595275e3",
   "metadata": {},
   "outputs": [],
   "source": [
    "# search for easy & hard\n",
    "gnd_t = []\n",
    "for i in range(len(gnd)):\n",
    "    g = {}\n",
    "    g['ok'] = np.concatenate([gnd[i]['easy'], gnd[i]['hard']])\n",
    "    g['junk'] = np.concatenate([gnd[i]['junk']])\n",
    "    gnd_t.append(g)\n",
    "mapM, apsM, mprM, prsM = compute_map(ranks, gnd_t, ks)"
   ]
  },
  {
   "cell_type": "code",
   "execution_count": 15,
   "id": "b747ea3f",
   "metadata": {},
   "outputs": [],
   "source": [
    "# search for hard\n",
    "gnd_t = []\n",
    "for i in range(len(gnd)):\n",
    "    g = {}\n",
    "    g['ok'] = np.concatenate([gnd[i]['hard']])\n",
    "    g['junk'] = np.concatenate([gnd[i]['junk'], gnd[i]['easy']])\n",
    "    gnd_t.append(g)\n",
    "mapH, apsH, mprH, prsH = compute_map(ranks, gnd_t, ks)"
   ]
  },
  {
   "cell_type": "code",
   "execution_count": 16,
   "id": "b94c614f",
   "metadata": {},
   "outputs": [
    {
     "name": "stdout",
     "output_type": "stream",
     "text": [
      ">> roxford5k: mAP E: 19.18, M: 14.28, H: 4.11\n",
      ">> roxford5k: mP@k[ 1  5 10] E: [25.   23.68 21.03], M: [27.14 25.14 20.57], H: [10.   10.86  7.57]\n"
     ]
    }
   ],
   "source": [
    "print('>> {}: mAP E: {}, M: {}, H: {}'.format(test_dataset, np.around(mapE*100, decimals=2), np.around(mapM*100, decimals=2), np.around(mapH*100, decimals=2)))\n",
    "print('>> {}: mP@k{} E: {}, M: {}, H: {}'.format(test_dataset, np.array(ks), np.around(mprE*100, decimals=2), np.around(mprM*100, decimals=2), np.around(mprH*100, decimals=2)))"
   ]
  },
  {
   "cell_type": "code",
   "execution_count": null,
   "id": "38209e09",
   "metadata": {},
   "outputs": [],
   "source": []
  },
  {
   "cell_type": "markdown",
   "id": "8ddf0d25",
   "metadata": {},
   "source": [
    "### Retrieval Option 2"
   ]
  },
  {
   "cell_type": "code",
   "execution_count": 17,
   "id": "d555729e",
   "metadata": {},
   "outputs": [],
   "source": [
    "import faiss"
   ]
  },
  {
   "cell_type": "code",
   "execution_count": 18,
   "id": "1d91045e",
   "metadata": {},
   "outputs": [],
   "source": [
    "dim, size = X.shape\n",
    "m_neighbors = 12"
   ]
  },
  {
   "cell_type": "code",
   "execution_count": 19,
   "id": "f85dcdfa",
   "metadata": {},
   "outputs": [],
   "source": [
    "# quantizer = faiss.IndexFlatIP(dim)\n",
    "# index = faiss.IndexIVFPQ(quantizer, dim, 316, 128, 8)\n",
    "\n",
    "# index = faiss.IndexHNSWFlat(dim, m_neighbors)\n",
    "index = faiss.IndexFlatL2(dim) ##euclidean\n",
    "# index = faiss.IndexFlatIP(dim) ##cosine"
   ]
  },
  {
   "cell_type": "code",
   "execution_count": 20,
   "id": "e7821241",
   "metadata": {},
   "outputs": [],
   "source": [
    "index.train(np.swapaxes(X,0,1))\n",
    "index.add(np.swapaxes(X,0,1))"
   ]
  },
  {
   "cell_type": "code",
   "execution_count": 21,
   "id": "1112baf3",
   "metadata": {},
   "outputs": [],
   "source": [
    "sims, ranks_f = index.search(np.swapaxes(Q,0,1), size)\n",
    "ranks_f = np.swapaxes(ranks_f,0,1)"
   ]
  },
  {
   "cell_type": "code",
   "execution_count": 22,
   "id": "d46bf2d3",
   "metadata": {},
   "outputs": [],
   "source": [
    "# revisited evaluation\n",
    "gnd = cfg['gnd']\n",
    "\n",
    "# evaluate ranks\n",
    "ks = [1, 5, 10]"
   ]
  },
  {
   "cell_type": "code",
   "execution_count": 23,
   "id": "ec76e4b3",
   "metadata": {},
   "outputs": [],
   "source": [
    "# search for easy\n",
    "gnd_t = []\n",
    "for i in range(len(gnd)):\n",
    "    g = {}\n",
    "    g['ok'] = np.concatenate([gnd[i]['easy']])\n",
    "    g['junk'] = np.concatenate([gnd[i]['junk'], gnd[i]['hard']])\n",
    "    gnd_t.append(g)\n",
    "mapE, apsE, mprE, prsE = compute_map(ranks_f, gnd_t, ks)"
   ]
  },
  {
   "cell_type": "code",
   "execution_count": 24,
   "id": "275316f4",
   "metadata": {},
   "outputs": [],
   "source": [
    "# search for easy & hard\n",
    "gnd_t = []\n",
    "for i in range(len(gnd)):\n",
    "    g = {}\n",
    "    g['ok'] = np.concatenate([gnd[i]['easy'], gnd[i]['hard']])\n",
    "    g['junk'] = np.concatenate([gnd[i]['junk']])\n",
    "    gnd_t.append(g)\n",
    "mapM, apsM, mprM, prsM = compute_map(ranks_f, gnd_t, ks)"
   ]
  },
  {
   "cell_type": "code",
   "execution_count": 25,
   "id": "6d0493b0",
   "metadata": {},
   "outputs": [],
   "source": [
    "# search for hard\n",
    "gnd_t = []\n",
    "for i in range(len(gnd)):\n",
    "    g = {}\n",
    "    g['ok'] = np.concatenate([gnd[i]['hard']])\n",
    "    g['junk'] = np.concatenate([gnd[i]['junk'], gnd[i]['easy']])\n",
    "    gnd_t.append(g)\n",
    "mapH, apsH, mprH, prsH = compute_map(ranks_f, gnd_t, ks)"
   ]
  },
  {
   "cell_type": "code",
   "execution_count": 26,
   "id": "671d9c5a",
   "metadata": {},
   "outputs": [
    {
     "name": "stdout",
     "output_type": "stream",
     "text": [
      ">> roxford5k: mAP E: 20.36, M: 15.11, H: 3.86\n",
      ">> roxford5k: mP@k[ 1  5 10] E: [25.   26.99 24.65], M: [25.71 27.43 23.71], H: [8.57 7.21 6.36]\n"
     ]
    }
   ],
   "source": [
    "print('>> {}: mAP E: {}, M: {}, H: {}'.format(test_dataset, np.around(mapE*100, decimals=2), np.around(mapM*100, decimals=2), np.around(mapH*100, decimals=2)))\n",
    "print('>> {}: mP@k{} E: {}, M: {}, H: {}'.format(test_dataset, np.array(ks), np.around(mprE*100, decimals=2), np.around(mprM*100, decimals=2), np.around(mprH*100, decimals=2)))"
   ]
  },
  {
   "cell_type": "code",
   "execution_count": null,
   "id": "12c568ba",
   "metadata": {},
   "outputs": [],
   "source": [
    "thesis/classical/test-patches-kimia/s0"
   ]
  }
 ],
 "metadata": {
  "kernelspec": {
   "display_name": "Python 3 (ipykernel)",
   "language": "python",
   "name": "python3"
  },
  "language_info": {
   "codemirror_mode": {
    "name": "ipython",
    "version": 3
   },
   "file_extension": ".py",
   "mimetype": "text/x-python",
   "name": "python",
   "nbconvert_exporter": "python",
   "pygments_lexer": "ipython3",
   "version": "3.10.12"
  }
 },
 "nbformat": 4,
 "nbformat_minor": 5
}
