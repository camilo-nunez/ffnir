{
 "cells": [
  {
   "cell_type": "code",
   "execution_count": 1,
   "id": "cd3b5915",
   "metadata": {},
   "outputs": [],
   "source": [
    "import warnings\n",
    "warnings.filterwarnings('ignore')\n",
    "warnings.simplefilter('ignore')"
   ]
  },
  {
   "cell_type": "markdown",
   "id": "c753cc65",
   "metadata": {},
   "source": [
    "# Feature extraction"
   ]
  },
  {
   "cell_type": "code",
   "execution_count": 2,
   "id": "ba9ba14c",
   "metadata": {},
   "outputs": [],
   "source": [
    "import glob\n",
    "import os\n",
    "import numpy as np\n",
    "\n",
    "from PIL import Image, ImageFile\n",
    "from omegaconf import OmegaConf\n",
    "\n",
    "from config.init import create_baseconfig_from_checkpoint\n",
    "from model.lgffem import LGFFEM\n",
    "\n",
    "from utils.revisitop.dataset import configdataset\n",
    "from utils.revisitop.evaluate import compute_map\n",
    "\n",
    "from tqdm import tqdm"
   ]
  },
  {
   "cell_type": "code",
   "execution_count": 3,
   "id": "b753101c",
   "metadata": {},
   "outputs": [],
   "source": [
    "import torch\n",
    "from torchvision.transforms import v2\n",
    "from torch.utils.data import Dataset\n",
    "\n",
    "from torchinfo import summary\n",
    "\n",
    "device = torch.device(\"cuda\" if torch.cuda.is_available() else \"cpu\")"
   ]
  },
  {
   "cell_type": "markdown",
   "id": "56b44e68",
   "metadata": {},
   "source": [
    "## Create model from checkpoint"
   ]
  },
  {
   "cell_type": "code",
   "execution_count": 4,
   "id": "582b725e",
   "metadata": {},
   "outputs": [],
   "source": [
    "path_checkpoint = os.path.join('/thesis/checkpoint/20240210_2056-EMB-11_convnextv2-02_neck_512_3-00_head_A-epoch46.pth')\n",
    "checkpoint = torch.load(path_checkpoint)"
   ]
  },
  {
   "cell_type": "code",
   "execution_count": 5,
   "id": "cd83a5a5",
   "metadata": {},
   "outputs": [
    {
     "name": "stdout",
     "output_type": "stream",
     "text": [
      "[++] Loaded neck weights. <All keys matched successfully>\n",
      "[++] Loaded head weights. <All keys matched successfully>\n"
     ]
    }
   ],
   "source": [
    "base_config = create_baseconfig_from_checkpoint(checkpoint)\n",
    "\n",
    "embedder = LGFFEM(base_config).eval()\n",
    "match_n = embedder.neck.load_state_dict(checkpoint['model_neck_state_dict'], strict = False)\n",
    "print('[++] Loaded neck weights.', match_n)\n",
    "match_h = embedder.head.load_state_dict(checkpoint['model_head_state_dict'], strict = False)\n",
    "print('[++] Loaded head weights.', match_h)"
   ]
  },
  {
   "cell_type": "code",
   "execution_count": 6,
   "id": "56ebf9cc",
   "metadata": {},
   "outputs": [],
   "source": [
    "img_transforms = v2.Compose([\n",
    "                            v2.ToImage(),\n",
    "                            v2.Resize(size=(96, 96)),\n",
    "                            v2.ToDtype(torch.float32, scale=True),\n",
    "                            v2.Normalize(mean=[0.485, 0.456, 0.406], std=[0.229, 0.224, 0.225]),\n",
    "                          ])"
   ]
  },
  {
   "cell_type": "markdown",
   "id": "7e06fd7e",
   "metadata": {},
   "source": [
    "## Extraction features dataset: `oxford5k`"
   ]
  },
  {
   "cell_type": "code",
   "execution_count": 7,
   "id": "0035c6dc",
   "metadata": {},
   "outputs": [],
   "source": [
    "data_root = os.path.join('/thesis/classical/revisitop')"
   ]
  },
  {
   "cell_type": "code",
   "execution_count": 8,
   "id": "9aa99c2f",
   "metadata": {},
   "outputs": [
    {
     "name": "stdout",
     "output_type": "stream",
     "text": [
      ">> roxford5k: Processing test dataset...\n"
     ]
    }
   ],
   "source": [
    "# Set test dataset: roxford5k | rparis6k\n",
    "test_dataset = 'roxford5k'\n",
    "\n",
    "def pil_loader(path):\n",
    "    # to avoid crashing for truncated (corrupted images)\n",
    "    ImageFile.LOAD_TRUNCATED_IMAGES = True\n",
    "    # open path as file to avoid ResourceWarning \n",
    "    # (https://github.com/python-pillow/Pillow/issues/835)\n",
    "    with open(path, 'rb') as f:\n",
    "        img = Image.open(f)\n",
    "        return img.convert('RGB')\n",
    "\n",
    "print('>> {}: Processing test dataset...'.format(test_dataset)) \n",
    "# config file for the dataset\n",
    "# separates query image list from database image list, if revisited protocol used\n",
    "cfg = configdataset(test_dataset, os.path.join(data_root, 'datasets'))"
   ]
  },
  {
   "cell_type": "code",
   "execution_count": 9,
   "id": "185e0423",
   "metadata": {},
   "outputs": [
    {
     "name": "stderr",
     "output_type": "stream",
     "text": [
      "100%|██████████| 70/70 [00:08<00:00,  8.00it/s]\n"
     ]
    }
   ],
   "source": [
    "# query images\n",
    "qim_embs_l = []\n",
    "for i in tqdm(np.arange(cfg['nq'])):\n",
    "    qim = pil_loader(cfg['qim_fname'](cfg, i)).crop(cfg['gnd'][i]['bbx'])\n",
    "    qim = img_transforms(qim).unsqueeze(0)\n",
    "    qim_embs_l.append(embedder(qim).detach().cpu().numpy())\n",
    "\n",
    "Q = np.swapaxes(np.stack(qim_embs_l, axis=0).squeeze(1),0,1)"
   ]
  },
  {
   "cell_type": "code",
   "execution_count": 10,
   "id": "ba3fddc7",
   "metadata": {},
   "outputs": [
    {
     "name": "stderr",
     "output_type": "stream",
     "text": [
      "100%|██████████| 4993/4993 [09:52<00:00,  8.42it/s]\n"
     ]
    }
   ],
   "source": [
    "im_embs_l = []\n",
    "for i in tqdm(np.arange(cfg['n'])):\n",
    "    im = pil_loader(cfg['im_fname'](cfg, i))\n",
    "    im = img_transforms(im).unsqueeze(0)\n",
    "    im_embs_l.append(embedder(im).detach().cpu().numpy())\n",
    "\n",
    "X = np.swapaxes(np.stack(im_embs_l, axis=0).squeeze(1),0,1)"
   ]
  },
  {
   "cell_type": "code",
   "execution_count": null,
   "id": "a21c60d8",
   "metadata": {},
   "outputs": [],
   "source": []
  },
  {
   "cell_type": "markdown",
   "id": "4f3a3357",
   "metadata": {},
   "source": [
    "### Retrieval Option 1"
   ]
  },
  {
   "cell_type": "code",
   "execution_count": 11,
   "id": "0a65e39a",
   "metadata": {},
   "outputs": [
    {
     "name": "stdout",
     "output_type": "stream",
     "text": [
      ">> roxford5k: Retrieval...\n"
     ]
    }
   ],
   "source": [
    "# perform search\n",
    "print('>> {}: Retrieval...'.format(test_dataset))\n",
    "sim = np.dot(X.T, Q)\n",
    "ranks = np.argsort(-sim, axis=0)"
   ]
  },
  {
   "cell_type": "code",
   "execution_count": 12,
   "id": "779530c1",
   "metadata": {},
   "outputs": [],
   "source": [
    "# revisited evaluation\n",
    "gnd = cfg['gnd']\n",
    "\n",
    "# evaluate ranks\n",
    "ks = [1, 5, 10]"
   ]
  },
  {
   "cell_type": "code",
   "execution_count": 13,
   "id": "ab04f435",
   "metadata": {},
   "outputs": [],
   "source": [
    "# search for easy\n",
    "gnd_t = []\n",
    "for i in range(len(gnd)):\n",
    "    g = {}\n",
    "    g['ok'] = np.concatenate([gnd[i]['easy']])\n",
    "    g['junk'] = np.concatenate([gnd[i]['junk'], gnd[i]['hard']])\n",
    "    gnd_t.append(g)\n",
    "mapE, apsE, mprE, prsE = compute_map(ranks, gnd_t, ks)"
   ]
  },
  {
   "cell_type": "code",
   "execution_count": 14,
   "id": "1258e7bb",
   "metadata": {},
   "outputs": [],
   "source": [
    "# search for easy & hard\n",
    "gnd_t = []\n",
    "for i in range(len(gnd)):\n",
    "    g = {}\n",
    "    g['ok'] = np.concatenate([gnd[i]['easy'], gnd[i]['hard']])\n",
    "    g['junk'] = np.concatenate([gnd[i]['junk']])\n",
    "    gnd_t.append(g)\n",
    "mapM, apsM, mprM, prsM = compute_map(ranks, gnd_t, ks)"
   ]
  },
  {
   "cell_type": "code",
   "execution_count": 15,
   "id": "a0966a41",
   "metadata": {},
   "outputs": [],
   "source": [
    "# search for hard\n",
    "gnd_t = []\n",
    "for i in range(len(gnd)):\n",
    "    g = {}\n",
    "    g['ok'] = np.concatenate([gnd[i]['hard']])\n",
    "    g['junk'] = np.concatenate([gnd[i]['junk'], gnd[i]['easy']])\n",
    "    gnd_t.append(g)\n",
    "mapH, apsH, mprH, prsH = compute_map(ranks, gnd_t, ks)"
   ]
  },
  {
   "cell_type": "code",
   "execution_count": 16,
   "id": "e73e2c1b",
   "metadata": {},
   "outputs": [
    {
     "name": "stdout",
     "output_type": "stream",
     "text": [
      ">> roxford5k: mAP E: 13.28, M: 11.31, H: 4.18\n",
      ">> roxford5k: mP@k[ 1  5 10] E: [20.59 15.88 15.15], M: [20.   16.   15.86], H: [10.    9.43  7.71]\n"
     ]
    }
   ],
   "source": [
    "print('>> {}: mAP E: {}, M: {}, H: {}'.format(test_dataset, np.around(mapE*100, decimals=2), np.around(mapM*100, decimals=2), np.around(mapH*100, decimals=2)))\n",
    "print('>> {}: mP@k{} E: {}, M: {}, H: {}'.format(test_dataset, np.array(ks), np.around(mprE*100, decimals=2), np.around(mprM*100, decimals=2), np.around(mprH*100, decimals=2)))"
   ]
  },
  {
   "cell_type": "code",
   "execution_count": null,
   "id": "7ee39ea0",
   "metadata": {},
   "outputs": [],
   "source": []
  },
  {
   "cell_type": "markdown",
   "id": "c713c646",
   "metadata": {},
   "source": [
    "### Retrieval Option 2"
   ]
  },
  {
   "cell_type": "code",
   "execution_count": 17,
   "id": "0009c05a",
   "metadata": {},
   "outputs": [],
   "source": [
    "import faiss"
   ]
  },
  {
   "cell_type": "code",
   "execution_count": 18,
   "id": "f05110af",
   "metadata": {},
   "outputs": [],
   "source": [
    "dim, size = X.shape\n",
    "m_neighbors = 12"
   ]
  },
  {
   "cell_type": "code",
   "execution_count": 19,
   "id": "c0ca0a31",
   "metadata": {},
   "outputs": [],
   "source": [
    "# quantizer = faiss.IndexFlatIP(dim)\n",
    "# index = faiss.IndexIVFPQ(quantizer, dim, 316, 128, 8)\n",
    "\n",
    "# index = faiss.IndexHNSWFlat(dim, m_neighbors)\n",
    "index = faiss.IndexFlatL2(dim) ##euclidean\n",
    "# index = faiss.IndexFlatIP(dim) ##cosine"
   ]
  },
  {
   "cell_type": "code",
   "execution_count": 20,
   "id": "413bdbba",
   "metadata": {},
   "outputs": [],
   "source": [
    "index.train(np.swapaxes(X,0,1))\n",
    "index.add(np.swapaxes(X,0,1))"
   ]
  },
  {
   "cell_type": "code",
   "execution_count": 21,
   "id": "5b180b0e",
   "metadata": {},
   "outputs": [],
   "source": [
    "sims, ranks_f = index.search(np.swapaxes(Q,0,1), size)\n",
    "ranks_f = np.swapaxes(ranks_f,0,1)"
   ]
  },
  {
   "cell_type": "code",
   "execution_count": 22,
   "id": "31125789",
   "metadata": {},
   "outputs": [],
   "source": [
    "# revisited evaluation\n",
    "gnd = cfg['gnd']\n",
    "\n",
    "# evaluate ranks\n",
    "ks = [1, 5, 10]"
   ]
  },
  {
   "cell_type": "code",
   "execution_count": 23,
   "id": "f31958a8",
   "metadata": {},
   "outputs": [],
   "source": [
    "# search for easy\n",
    "gnd_t = []\n",
    "for i in range(len(gnd)):\n",
    "    g = {}\n",
    "    g['ok'] = np.concatenate([gnd[i]['easy']])\n",
    "    g['junk'] = np.concatenate([gnd[i]['junk'], gnd[i]['hard']])\n",
    "    gnd_t.append(g)\n",
    "mapE, apsE, mprE, prsE = compute_map(ranks_f, gnd_t, ks)"
   ]
  },
  {
   "cell_type": "code",
   "execution_count": 24,
   "id": "def69164",
   "metadata": {},
   "outputs": [],
   "source": [
    "# search for easy & hard\n",
    "gnd_t = []\n",
    "for i in range(len(gnd)):\n",
    "    g = {}\n",
    "    g['ok'] = np.concatenate([gnd[i]['easy'], gnd[i]['hard']])\n",
    "    g['junk'] = np.concatenate([gnd[i]['junk']])\n",
    "    gnd_t.append(g)\n",
    "mapM, apsM, mprM, prsM = compute_map(ranks_f, gnd_t, ks)"
   ]
  },
  {
   "cell_type": "code",
   "execution_count": 25,
   "id": "85947dc0",
   "metadata": {},
   "outputs": [],
   "source": [
    "# search for hard\n",
    "gnd_t = []\n",
    "for i in range(len(gnd)):\n",
    "    g = {}\n",
    "    g['ok'] = np.concatenate([gnd[i]['hard']])\n",
    "    g['junk'] = np.concatenate([gnd[i]['junk'], gnd[i]['easy']])\n",
    "    gnd_t.append(g)\n",
    "mapH, apsH, mprH, prsH = compute_map(ranks_f, gnd_t, ks)"
   ]
  },
  {
   "cell_type": "code",
   "execution_count": 26,
   "id": "4d56c5c5",
   "metadata": {},
   "outputs": [
    {
     "name": "stdout",
     "output_type": "stream",
     "text": [
      ">> roxford5k: mAP E: 13.63, M: 11.51, H: 4.22\n",
      ">> roxford5k: mP@k[ 1  5 10] E: [19.12 17.06 15.74], M: [18.57 17.43 16.43], H: [10.    9.71  8.  ]\n"
     ]
    }
   ],
   "source": [
    "print('>> {}: mAP E: {}, M: {}, H: {}'.format(test_dataset, np.around(mapE*100, decimals=2), np.around(mapM*100, decimals=2), np.around(mapH*100, decimals=2)))\n",
    "print('>> {}: mP@k{} E: {}, M: {}, H: {}'.format(test_dataset, np.array(ks), np.around(mprE*100, decimals=2), np.around(mprM*100, decimals=2), np.around(mprH*100, decimals=2)))"
   ]
  },
  {
   "cell_type": "code",
   "execution_count": null,
   "id": "a42fa1ed",
   "metadata": {},
   "outputs": [],
   "source": []
  }
 ],
 "metadata": {
  "kernelspec": {
   "display_name": "Python 3 (ipykernel)",
   "language": "python",
   "name": "python3"
  },
  "language_info": {
   "codemirror_mode": {
    "name": "ipython",
    "version": 3
   },
   "file_extension": ".py",
   "mimetype": "text/x-python",
   "name": "python",
   "nbconvert_exporter": "python",
   "pygments_lexer": "ipython3",
   "version": "3.10.12"
  }
 },
 "nbformat": 4,
 "nbformat_minor": 5
}
