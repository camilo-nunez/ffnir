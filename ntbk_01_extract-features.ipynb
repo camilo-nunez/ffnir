{
 "cells": [
  {
   "cell_type": "code",
   "execution_count": 1,
   "id": "fbdbe7f6",
   "metadata": {},
   "outputs": [],
   "source": [
    "import warnings\n",
    "warnings.filterwarnings('ignore')\n",
    "warnings.simplefilter('ignore')"
   ]
  },
  {
   "cell_type": "markdown",
   "id": "f338f200",
   "metadata": {},
   "source": [
    "# Feature extraction"
   ]
  },
  {
   "cell_type": "code",
   "execution_count": 2,
   "id": "b2f5155e",
   "metadata": {},
   "outputs": [],
   "source": [
    "import glob\n",
    "import os\n",
    "import numpy as np\n",
    "from pathlib import Path\n",
    "from PIL import Image, ImageFile\n",
    "from omegaconf import OmegaConf\n",
    "\n",
    "from config.init import create_baseconfig_from_checkpoint\n",
    "from model.lgffem import LGFFEM\n",
    "\n",
    "from utils.revisitop.dataset import configdataset\n",
    "from utils.revisitop.evaluate import compute_map\n",
    "\n",
    "from tqdm import tqdm\n",
    "\n",
    "import faiss"
   ]
  },
  {
   "cell_type": "code",
   "execution_count": 3,
   "id": "9d49ea14",
   "metadata": {},
   "outputs": [],
   "source": [
    "import torch\n",
    "from torchvision.transforms import v2\n",
    "from torch.utils.data import Dataset\n",
    "\n",
    "from torchinfo import summary\n",
    "\n",
    "device = torch.device(\"cuda\" if torch.cuda.is_available() else \"cpu\")"
   ]
  },
  {
   "cell_type": "code",
   "execution_count": 4,
   "id": "c3fe5818",
   "metadata": {},
   "outputs": [],
   "source": [
    "def pil_loader(path):\n",
    "    # to avoid crashing for truncated (corrupted images)\n",
    "    ImageFile.LOAD_TRUNCATED_IMAGES = True\n",
    "    # open path as file to avoid ResourceWarning \n",
    "    # (https://github.com/python-pillow/Pillow/issues/835)\n",
    "    with open(path, 'rb') as f:\n",
    "        img = Image.open(f)\n",
    "        return img.convert('RGB')"
   ]
  },
  {
   "cell_type": "code",
   "execution_count": 5,
   "id": "540fc11e",
   "metadata": {},
   "outputs": [],
   "source": [
    "def revised_metrics_from_checkpoint(l_checkpoint: list[str], test_dataset = 'roxford5k', retrieval_option='default'):\n",
    "\n",
    "    for path_checkpoint in l_checkpoint:\n",
    "        \n",
    "        # Create model from checkpoint\n",
    "        print(path_checkpoint)\n",
    "        path_checkpoint = os.path.join(path_checkpoint)\n",
    "        checkpoint = torch.load(path_checkpoint)\n",
    "        \n",
    "        base_config = create_baseconfig_from_checkpoint(checkpoint)\n",
    "\n",
    "        embedder = LGFFEM(base_config).eval().to(device)\n",
    "        match_n = embedder.neck.load_state_dict(checkpoint['model_neck_state_dict'], strict = False)\n",
    "        print('[++] Loaded neck weights.', match_n)\n",
    "        match_h = embedder.head.load_state_dict(checkpoint['model_head_state_dict'], strict = False)\n",
    "        print('[++] Loaded head weights.', match_h)\n",
    "        \n",
    "        img_transforms = v2.Compose([\n",
    "                            v2.ToImage(),\n",
    "                            v2.Resize(size=(224, 224)),\n",
    "                            v2.ToDtype(torch.float32, scale=True),\n",
    "                            v2.Normalize(mean=[0.485, 0.456, 0.406], std=[0.229, 0.224, 0.225]),\n",
    "                          ])\n",
    "        \n",
    "        # Extraction features dataset\n",
    "        data_root = os.path.join('/thesis/classical/revisitop')\n",
    "        \n",
    "        print('>> {}: Processing test dataset...'.format(test_dataset)) \n",
    "        # config file for the dataset\n",
    "        # separates query image list from database image list, if revisited protocol used\n",
    "        cfg = configdataset(test_dataset, os.path.join(data_root, 'datasets'))\n",
    "        \n",
    "        # query images\n",
    "        qim_embs_l = []\n",
    "        for i in tqdm(np.arange(cfg['nq'])):\n",
    "            qim = pil_loader(cfg['qim_fname'](cfg, i)).crop(cfg['gnd'][i]['bbx'])\n",
    "            qim = img_transforms(qim).unsqueeze(0).to(device)\n",
    "            qim_embs_l.append(embedder(qim).detach().cpu().numpy())\n",
    "\n",
    "        Q = np.swapaxes(np.stack(qim_embs_l, axis=0).squeeze(1),0,1)\n",
    "        \n",
    "        im_embs_l = []\n",
    "        for i in tqdm(np.arange(cfg['n'])):\n",
    "            im = pil_loader(cfg['im_fname'](cfg, i))\n",
    "            im = img_transforms(im).unsqueeze(0).to(device)\n",
    "            im_embs_l.append(embedder(im).detach().cpu().numpy())\n",
    "\n",
    "        X = np.swapaxes(np.stack(im_embs_l, axis=0).squeeze(1),0,1)\n",
    "        \n",
    "        if retrieval_option=='default':\n",
    "            sim = np.dot(X.T, Q)\n",
    "            ranks_f = np.argsort(-sim, axis=0)\n",
    "\n",
    "        elif retrieval_option=='faiss':\n",
    "            dim, size = X.shape\n",
    "            index = faiss.IndexFlatL2(dim) ##euclidean\n",
    "    #         index = faiss.IndexFlatIP(dim) ##cosine\n",
    "            index.train(np.swapaxes(X,0,1))\n",
    "            index.add(np.swapaxes(X,0,1))\n",
    "            sims, ranks_f = index.search(np.swapaxes(Q,0,1), size)\n",
    "            ranks_f = np.swapaxes(ranks_f,0,1)\n",
    "            \n",
    "        else:\n",
    "            raise Exception(\"The retrieval_option selected doesn't exist.\")\n",
    "        \n",
    "        # revisited evaluation\n",
    "        gnd = cfg['gnd']\n",
    "\n",
    "        # evaluate ranks\n",
    "        ks = [1, 5, 10]\n",
    "        \n",
    "        # search for easy\n",
    "        gnd_t = []\n",
    "        for i in range(len(gnd)):\n",
    "            g = {}\n",
    "            g['ok'] = np.concatenate([gnd[i]['easy']])\n",
    "            g['junk'] = np.concatenate([gnd[i]['junk'], gnd[i]['hard']])\n",
    "            gnd_t.append(g)\n",
    "        mapE, apsE, mprE, prsE = compute_map(ranks_f, gnd_t, ks)\n",
    "        \n",
    "        # search for easy & hard\n",
    "        gnd_t = []\n",
    "        for i in range(len(gnd)):\n",
    "            g = {}\n",
    "            g['ok'] = np.concatenate([gnd[i]['easy'], gnd[i]['hard']])\n",
    "            g['junk'] = np.concatenate([gnd[i]['junk']])\n",
    "            gnd_t.append(g)\n",
    "        mapM, apsM, mprM, prsM = compute_map(ranks_f, gnd_t, ks)\n",
    "        \n",
    "        # search for hard\n",
    "        gnd_t = []\n",
    "        for i in range(len(gnd)):\n",
    "            g = {}\n",
    "            g['ok'] = np.concatenate([gnd[i]['hard']])\n",
    "            g['junk'] = np.concatenate([gnd[i]['junk'], gnd[i]['easy']])\n",
    "            gnd_t.append(g)\n",
    "        mapH, apsH, mprH, prsH = compute_map(ranks_f, gnd_t, ks)\n",
    "        \n",
    "        print(f'>> {Path(path_checkpoint).stem}')\n",
    "        print('>> {}: mAP E: {}, M: {}, H: {}'.format(test_dataset, np.around(mapE*100, decimals=2), np.around(mapM*100, decimals=2), np.around(mapH*100, decimals=2)))\n",
    "        print('>> {}: mP@k{} E: {}, M: {}, H: {}'.format(test_dataset, np.array(ks), np.around(mprE*100, decimals=2), np.around(mprM*100, decimals=2), np.around(mprH*100, decimals=2)))\n",
    "        print('\\n\\n')"
   ]
  },
  {
   "cell_type": "code",
   "execution_count": 6,
   "id": "8931f5bb",
   "metadata": {},
   "outputs": [],
   "source": [
    "kimia_m_checks = [\n",
    "                '/thesis/checkpoint/BASE/BASE-A-EMB-PAN-11_convnextv2-02_neck_512_3-00_head_A-epoch200.pth',\n",
    "                '/thesis/checkpoint/BASE/BASE-B-EMB-PAN-11_convnextv2-02_neck_512_3-00_head_A-epoch198.pth',\n",
    "                '/thesis/checkpoint/BASE/BASE-C-EMB-PAN-11_convnextv2-02_neck_512_3-00_head_A-epoch199.pth'\n",
    "               ]"
   ]
  },
  {
   "cell_type": "code",
   "execution_count": 7,
   "id": "0918c6cd",
   "metadata": {},
   "outputs": [
    {
     "name": "stdout",
     "output_type": "stream",
     "text": [
      "/thesis/checkpoint/BASE/BASE-A-EMB-PAN-11_convnextv2-02_neck_512_3-00_head_A-epoch200.pth\n",
      "[++] Loaded neck weights. <All keys matched successfully>\n",
      "[++] Loaded head weights. <All keys matched successfully>\n",
      ">> roxford5k: Processing test dataset...\n"
     ]
    },
    {
     "name": "stderr",
     "output_type": "stream",
     "text": [
      "100%|██████████| 70/70 [00:02<00:00, 31.34it/s]\n",
      "100%|██████████| 4993/4993 [02:22<00:00, 34.95it/s]\n"
     ]
    },
    {
     "name": "stdout",
     "output_type": "stream",
     "text": [
      ">> BASE-A-EMB-PAN-11_convnextv2-02_neck_512_3-00_head_A-epoch200\n",
      ">> roxford5k: mAP E: 10.62, M: 9.7, H: 2.97\n",
      ">> roxford5k: mP@k[ 1  5 10] E: [22.06 21.76 17.94], M: [25.71 23.14 19.43], H: [8.57 4.86 3.57]\n",
      "\n",
      "\n",
      "\n",
      "/thesis/checkpoint/BASE/BASE-B-EMB-PAN-11_convnextv2-02_neck_512_3-00_head_A-epoch198.pth\n",
      "[++] Loaded neck weights. <All keys matched successfully>\n",
      "[++] Loaded head weights. <All keys matched successfully>\n",
      ">> roxford5k: Processing test dataset...\n"
     ]
    },
    {
     "name": "stderr",
     "output_type": "stream",
     "text": [
      "100%|██████████| 70/70 [00:01<00:00, 35.24it/s]\n",
      "100%|██████████| 4993/4993 [02:26<00:00, 34.11it/s]\n"
     ]
    },
    {
     "name": "stdout",
     "output_type": "stream",
     "text": [
      ">> BASE-B-EMB-PAN-11_convnextv2-02_neck_512_3-00_head_A-epoch198\n",
      ">> roxford5k: mAP E: 7.86, M: 7.82, H: 2.3\n",
      ">> roxford5k: mP@k[ 1  5 10] E: [14.71 15.   13.68], M: [18.57 16.57 15.29], H: [5.71 2.29 2.43]\n",
      "\n",
      "\n",
      "\n",
      "/thesis/checkpoint/BASE/BASE-C-EMB-PAN-11_convnextv2-02_neck_512_3-00_head_A-epoch199.pth\n",
      "[++] Loaded neck weights. <All keys matched successfully>\n",
      "[++] Loaded head weights. <All keys matched successfully>\n",
      ">> roxford5k: Processing test dataset...\n"
     ]
    },
    {
     "name": "stderr",
     "output_type": "stream",
     "text": [
      "100%|██████████| 70/70 [00:02<00:00, 33.03it/s]\n",
      "100%|██████████| 4993/4993 [02:26<00:00, 34.17it/s]\n"
     ]
    },
    {
     "name": "stdout",
     "output_type": "stream",
     "text": [
      ">> BASE-C-EMB-PAN-11_convnextv2-02_neck_512_3-00_head_A-epoch199\n",
      ">> roxford5k: mAP E: 10.74, M: 9.95, H: 2.04\n",
      ">> roxford5k: mP@k[ 1  5 10] E: [20.59 17.65 16.47], M: [21.43 18.86 17.43], H: [2.86 3.14 3.14]\n",
      "\n",
      "\n",
      "\n"
     ]
    }
   ],
   "source": [
    "revised_metrics_from_checkpoint(kimia_m_checks)"
   ]
  },
  {
   "cell_type": "code",
   "execution_count": 8,
   "id": "12cb1402",
   "metadata": {},
   "outputs": [
    {
     "name": "stdout",
     "output_type": "stream",
     "text": [
      "/thesis/checkpoint/BASE/BASE-A-EMB-PAN-11_convnextv2-02_neck_512_3-00_head_A-epoch200.pth\n",
      "[++] Loaded neck weights. <All keys matched successfully>\n",
      "[++] Loaded head weights. <All keys matched successfully>\n",
      ">> rparis6k: Processing test dataset...\n"
     ]
    },
    {
     "name": "stderr",
     "output_type": "stream",
     "text": [
      "100%|██████████| 70/70 [00:01<00:00, 37.25it/s]\n",
      "100%|██████████| 6322/6322 [02:59<00:00, 35.19it/s]\n"
     ]
    },
    {
     "name": "stdout",
     "output_type": "stream",
     "text": [
      ">> BASE-A-EMB-PAN-11_convnextv2-02_neck_512_3-00_head_A-epoch200\n",
      ">> rparis6k: mAP E: 45.27, M: 36.72, H: 14.96\n",
      ">> rparis6k: mP@k[ 1  5 10] E: [88.57 77.71 72.  ], M: [88.57 82.57 75.71], H: [35.71 34.29 30.71]\n",
      "\n",
      "\n",
      "\n",
      "/thesis/checkpoint/BASE/BASE-B-EMB-PAN-11_convnextv2-02_neck_512_3-00_head_A-epoch198.pth\n",
      "[++] Loaded neck weights. <All keys matched successfully>\n",
      "[++] Loaded head weights. <All keys matched successfully>\n",
      ">> rparis6k: Processing test dataset...\n"
     ]
    },
    {
     "name": "stderr",
     "output_type": "stream",
     "text": [
      "100%|██████████| 70/70 [00:02<00:00, 34.70it/s]\n",
      "100%|██████████| 6322/6322 [03:05<00:00, 34.16it/s]\n"
     ]
    },
    {
     "name": "stdout",
     "output_type": "stream",
     "text": [
      ">> BASE-B-EMB-PAN-11_convnextv2-02_neck_512_3-00_head_A-epoch198\n",
      ">> rparis6k: mAP E: 28.69, M: 24.86, H: 10.16\n",
      ">> rparis6k: mP@k[ 1  5 10] E: [80.   71.14 64.71], M: [81.43 75.71 69.43], H: [42.86 34.29 30.  ]\n",
      "\n",
      "\n",
      "\n",
      "/thesis/checkpoint/BASE/BASE-C-EMB-PAN-11_convnextv2-02_neck_512_3-00_head_A-epoch199.pth\n",
      "[++] Loaded neck weights. <All keys matched successfully>\n",
      "[++] Loaded head weights. <All keys matched successfully>\n",
      ">> rparis6k: Processing test dataset...\n"
     ]
    },
    {
     "name": "stderr",
     "output_type": "stream",
     "text": [
      "100%|██████████| 70/70 [00:02<00:00, 34.29it/s]\n",
      "100%|██████████| 6322/6322 [03:01<00:00, 34.79it/s]\n"
     ]
    },
    {
     "name": "stdout",
     "output_type": "stream",
     "text": [
      ">> BASE-C-EMB-PAN-11_convnextv2-02_neck_512_3-00_head_A-epoch199\n",
      ">> rparis6k: mAP E: 31.31, M: 24.61, H: 7.98\n",
      ">> rparis6k: mP@k[ 1  5 10] E: [80.   72.57 66.57], M: [81.43 74.57 69.57], H: [27.14 24.   21.71]\n",
      "\n",
      "\n",
      "\n"
     ]
    }
   ],
   "source": [
    "revised_metrics_from_checkpoint(kimia_m_checks, test_dataset='rparis6k')"
   ]
  },
  {
   "cell_type": "code",
   "execution_count": 9,
   "id": "e94e252e",
   "metadata": {},
   "outputs": [],
   "source": [
    "final_models = ['/thesis/checkpoint/BASE/BASE-EMB-11_convnextv2-02_neck_512_3-00_head_A-epoch10--in1k-224.pth',\n",
    " '/thesis/checkpoint/BASE/BASE-B-EMB-PAN-11_convnextv2-02_neck_512_3-00_head_A-epoch198.pth',\n",
    " '/thesis/checkpoint/BASE/BASE-EMB-KIMIA-11_convnextv2-02_neck_512_3-00_head_A-epoch499.pth'\n",
    " ]"
   ]
  },
  {
   "cell_type": "code",
   "execution_count": 10,
   "id": "da507986",
   "metadata": {},
   "outputs": [
    {
     "name": "stdout",
     "output_type": "stream",
     "text": [
      "/thesis/checkpoint/BASE/BASE-EMB-11_convnextv2-02_neck_512_3-00_head_A-epoch10--in1k-224.pth\n",
      "[++] Loaded neck weights. <All keys matched successfully>\n",
      "[++] Loaded head weights. <All keys matched successfully>\n",
      ">> roxford5k: Processing test dataset...\n"
     ]
    },
    {
     "name": "stderr",
     "output_type": "stream",
     "text": [
      "100%|██████████| 70/70 [00:01<00:00, 37.69it/s]\n",
      "100%|██████████| 4993/4993 [02:20<00:00, 35.59it/s]\n"
     ]
    },
    {
     "name": "stdout",
     "output_type": "stream",
     "text": [
      ">> BASE-EMB-11_convnextv2-02_neck_512_3-00_head_A-epoch10--in1k-224\n",
      ">> roxford5k: mAP E: 19.78, M: 14.6, H: 3.56\n",
      ">> roxford5k: mP@k[ 1  5 10] E: [29.41 24.85 23.82], M: [28.57 25.71 24.14], H: [7.14 7.14 6.71]\n",
      "\n",
      "\n",
      "\n",
      "/thesis/checkpoint/BASE/BASE-B-EMB-PAN-11_convnextv2-02_neck_512_3-00_head_A-epoch198.pth\n",
      "[++] Loaded neck weights. <All keys matched successfully>\n",
      "[++] Loaded head weights. <All keys matched successfully>\n",
      ">> roxford5k: Processing test dataset...\n"
     ]
    },
    {
     "name": "stderr",
     "output_type": "stream",
     "text": [
      "100%|██████████| 70/70 [00:01<00:00, 36.33it/s]\n",
      "100%|██████████| 4993/4993 [02:23<00:00, 34.76it/s]\n"
     ]
    },
    {
     "name": "stdout",
     "output_type": "stream",
     "text": [
      ">> BASE-B-EMB-PAN-11_convnextv2-02_neck_512_3-00_head_A-epoch198\n",
      ">> roxford5k: mAP E: 7.86, M: 7.82, H: 2.3\n",
      ">> roxford5k: mP@k[ 1  5 10] E: [14.71 15.   13.68], M: [18.57 16.57 15.29], H: [5.71 2.29 2.43]\n",
      "\n",
      "\n",
      "\n",
      "/thesis/checkpoint/BASE/BASE-EMB-KIMIA-11_convnextv2-02_neck_512_3-00_head_A-epoch499.pth\n",
      "[++] Loaded neck weights. <All keys matched successfully>\n",
      "[++] Loaded head weights. <All keys matched successfully>\n",
      ">> roxford5k: Processing test dataset...\n"
     ]
    },
    {
     "name": "stderr",
     "output_type": "stream",
     "text": [
      "100%|██████████| 70/70 [00:02<00:00, 33.78it/s]\n",
      "100%|██████████| 4993/4993 [02:37<00:00, 31.65it/s]\n"
     ]
    },
    {
     "name": "stdout",
     "output_type": "stream",
     "text": [
      ">> BASE-EMB-KIMIA-11_convnextv2-02_neck_512_3-00_head_A-epoch499\n",
      ">> roxford5k: mAP E: 2.7, M: 3.39, H: 1.18\n",
      ">> roxford5k: mP@k[ 1  5 10] E: [5.88 3.82 4.26], M: [5.71 4.57 5.  ], H: [0.   1.14 1.  ]\n",
      "\n",
      "\n",
      "\n"
     ]
    }
   ],
   "source": [
    "revised_metrics_from_checkpoint(final_models)"
   ]
  },
  {
   "cell_type": "code",
   "execution_count": 11,
   "id": "308a27fc",
   "metadata": {},
   "outputs": [
    {
     "name": "stdout",
     "output_type": "stream",
     "text": [
      "/thesis/checkpoint/BASE/BASE-EMB-11_convnextv2-02_neck_512_3-00_head_A-epoch10--in1k-224.pth\n",
      "[++] Loaded neck weights. <All keys matched successfully>\n",
      "[++] Loaded head weights. <All keys matched successfully>\n",
      ">> rparis6k: Processing test dataset...\n"
     ]
    },
    {
     "name": "stderr",
     "output_type": "stream",
     "text": [
      "100%|██████████| 70/70 [00:02<00:00, 34.90it/s]\n",
      "100%|██████████| 6322/6322 [03:19<00:00, 31.75it/s]\n"
     ]
    },
    {
     "name": "stdout",
     "output_type": "stream",
     "text": [
      ">> BASE-EMB-11_convnextv2-02_neck_512_3-00_head_A-epoch10--in1k-224\n",
      ">> rparis6k: mAP E: 54.64, M: 43.68, H: 20.6\n",
      ">> rparis6k: mP@k[ 1  5 10] E: [91.43 85.43 82.14], M: [91.43 86.86 84.43], H: [58.57 51.43 46.71]\n",
      "\n",
      "\n",
      "\n",
      "/thesis/checkpoint/BASE/BASE-B-EMB-PAN-11_convnextv2-02_neck_512_3-00_head_A-epoch198.pth\n",
      "[++] Loaded neck weights. <All keys matched successfully>\n",
      "[++] Loaded head weights. <All keys matched successfully>\n",
      ">> rparis6k: Processing test dataset...\n"
     ]
    },
    {
     "name": "stderr",
     "output_type": "stream",
     "text": [
      "100%|██████████| 70/70 [00:01<00:00, 35.34it/s]\n",
      "100%|██████████| 6322/6322 [03:07<00:00, 33.73it/s]\n"
     ]
    },
    {
     "name": "stdout",
     "output_type": "stream",
     "text": [
      ">> BASE-B-EMB-PAN-11_convnextv2-02_neck_512_3-00_head_A-epoch198\n",
      ">> rparis6k: mAP E: 28.69, M: 24.86, H: 10.16\n",
      ">> rparis6k: mP@k[ 1  5 10] E: [80.   71.14 64.71], M: [81.43 75.71 69.43], H: [42.86 34.29 30.  ]\n",
      "\n",
      "\n",
      "\n",
      "/thesis/checkpoint/BASE/BASE-EMB-KIMIA-11_convnextv2-02_neck_512_3-00_head_A-epoch499.pth\n",
      "[++] Loaded neck weights. <All keys matched successfully>\n",
      "[++] Loaded head weights. <All keys matched successfully>\n",
      ">> rparis6k: Processing test dataset...\n"
     ]
    },
    {
     "name": "stderr",
     "output_type": "stream",
     "text": [
      "100%|██████████| 70/70 [00:02<00:00, 32.05it/s]\n",
      "100%|██████████| 6322/6322 [03:09<00:00, 33.40it/s]\n"
     ]
    },
    {
     "name": "stdout",
     "output_type": "stream",
     "text": [
      ">> BASE-EMB-KIMIA-11_convnextv2-02_neck_512_3-00_head_A-epoch499\n",
      ">> rparis6k: mAP E: 7.63, M: 8.67, H: 4.48\n",
      ">> rparis6k: mP@k[ 1  5 10] E: [32.86 23.14 19.07], M: [34.29 27.71 24.43], H: [12.86  7.71  7.57]\n",
      "\n",
      "\n",
      "\n"
     ]
    }
   ],
   "source": [
    "revised_metrics_from_checkpoint(final_models, test_dataset='rparis6k')"
   ]
  }
 ],
 "metadata": {
  "kernelspec": {
   "display_name": "Python 3 (ipykernel)",
   "language": "python",
   "name": "python3"
  },
  "language_info": {
   "codemirror_mode": {
    "name": "ipython",
    "version": 3
   },
   "file_extension": ".py",
   "mimetype": "text/x-python",
   "name": "python",
   "nbconvert_exporter": "python",
   "pygments_lexer": "ipython3",
   "version": "3.10.12"
  }
 },
 "nbformat": 4,
 "nbformat_minor": 5
}
