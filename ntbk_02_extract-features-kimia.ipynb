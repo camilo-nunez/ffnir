{
 "cells": [
  {
   "cell_type": "code",
   "execution_count": 1,
   "id": "9a02ca5c",
   "metadata": {},
   "outputs": [],
   "source": [
    "import warnings\n",
    "warnings.filterwarnings('ignore')\n",
    "warnings.simplefilter('ignore')"
   ]
  },
  {
   "cell_type": "markdown",
   "id": "79351f5d",
   "metadata": {},
   "source": [
    "# Feature extraction"
   ]
  },
  {
   "cell_type": "code",
   "execution_count": 2,
   "id": "7b600dbf",
   "metadata": {},
   "outputs": [],
   "source": [
    "import glob\n",
    "import os\n",
    "import numpy as np\n",
    "\n",
    "from PIL import Image, ImageFile\n",
    "from omegaconf import OmegaConf\n",
    "\n",
    "from config.init import create_baseconfig_from_checkpoint\n",
    "from model.lgffem import LGFFEM\n",
    "\n",
    "import faiss\n",
    "from pathlib import Path\n",
    "from natsort import natsorted\n",
    "import itertools\n",
    "\n",
    "from tqdm import tqdm"
   ]
  },
  {
   "cell_type": "code",
   "execution_count": 3,
   "id": "faef311a",
   "metadata": {},
   "outputs": [],
   "source": [
    "import torch\n",
    "from torchvision.transforms import v2\n",
    "\n",
    "from torchinfo import summary\n",
    "\n",
    "device = torch.device(\"cuda\" if torch.cuda.is_available() else \"cpu\")"
   ]
  },
  {
   "cell_type": "code",
   "execution_count": 4,
   "id": "32300081",
   "metadata": {},
   "outputs": [],
   "source": [
    "def pil_loader(path):\n",
    "    # to avoid crashing for truncated (corrupted images)\n",
    "    ImageFile.LOAD_TRUNCATED_IMAGES = True\n",
    "    # open path as file to avoid ResourceWarning \n",
    "    # (https://github.com/python-pillow/Pillow/issues/835)\n",
    "    with open(path, 'rb') as f:\n",
    "        img = Image.open(f)\n",
    "        return img.convert('RGB')"
   ]
  },
  {
   "cell_type": "code",
   "execution_count": 5,
   "id": "fbc1a36f",
   "metadata": {},
   "outputs": [],
   "source": [
    "def kimia_metrics_from_checkpoint(l_checkpoint: list[str]):\n",
    "\n",
    "    for path_checkpoint in l_checkpoint:\n",
    "        \n",
    "        # Create model from checkpoint\n",
    "        print(path_checkpoint)\n",
    "        path_checkpoint = os.path.join(path_checkpoint)\n",
    "        checkpoint = torch.load(path_checkpoint)\n",
    "        \n",
    "        base_config = create_baseconfig_from_checkpoint(checkpoint)\n",
    "\n",
    "        embedder = LGFFEM(base_config).eval().to(device)\n",
    "        match_n = embedder.neck.load_state_dict(checkpoint['model_neck_state_dict'], strict = False)\n",
    "        print('[++] Loaded neck weights.', match_n)\n",
    "        match_h = embedder.head.load_state_dict(checkpoint['model_head_state_dict'], strict = False)\n",
    "        print('[++] Loaded head weights.', match_h)\n",
    "        \n",
    "        img_transforms = v2.Compose([\n",
    "                            v2.ToImage(),\n",
    "                            v2.Resize(size=(224, 224)),\n",
    "                            v2.ToDtype(torch.float32, scale=True),\n",
    "                            v2.Normalize(mean=[0.485, 0.456, 0.406], std=[0.229, 0.224, 0.225]),\n",
    "                          ])\n",
    "        \n",
    "        # Extraction features dataset\n",
    "        PATH_TEST = '/thesis/classical/test-patches-kimia/'\n",
    "        dict_img = {}\n",
    "        for i in range(0,24):\n",
    "            path_i = f'/thesis/classical/test-patches-kimia/s{i}'\n",
    "            dict_img[f's{i}'] = natsorted([path for path in Path(path_i).rglob('*.jpg')], key=str)\n",
    "\n",
    "        img_l = list(itertools.chain.from_iterable(dict_img.values()))\n",
    "        \n",
    "        im_embs_l = []\n",
    "        for i in tqdm(img_l):\n",
    "            im = pil_loader(i)\n",
    "            im = img_transforms(im).unsqueeze(0).to(device)\n",
    "            im_embs_l.append(embedder(im).detach().cpu().numpy())\n",
    "\n",
    "        X = np.stack(im_embs_l, axis=0).squeeze(1)\n",
    "        \n",
    "        ## Create index and retrieve\n",
    "        size, dim = X.shape\n",
    "        index = faiss.IndexFlatL2(dim) ##euclidean\n",
    "        # index = faiss.IndexFlatIP(dim) ##cosine\n",
    "        index.add(X)\n",
    "        sims, ranks_f = index.search(X, size)\n",
    "        \n",
    "        eta_p = .0\n",
    "        eta_w = .0\n",
    "\n",
    "        K = 5\n",
    "\n",
    "        i_low = 0\n",
    "        for s in range(0,24):\n",
    "            v = dict_img[f's{s}']\n",
    "\n",
    "            i_hight = i_low + len(v)\n",
    "\n",
    "            labels = set([path.name for path in img_l[i_low:i_hight]])\n",
    "            retrieve = set([path.name for path in [img_l[idx] for idx in ranks_f[i_low,:i_hight]]]) ## k=1\n",
    "\n",
    "            cardi = len(retrieve&labels)\n",
    "\n",
    "            eta_p+=cardi\n",
    "            eta_w+=(cardi/len(v))\n",
    "\n",
    "            i_low = i_hight\n",
    "\n",
    "        eta_p = eta_p/len(img_l)\n",
    "        eta_w = eta_w/24\n",
    "        eta_tot = eta_p*eta_w\n",
    "        \n",
    "        print(f'>> {Path(path_checkpoint).stem}')\n",
    "        print(f\"eta_tot: {round(eta_tot*100,2)} ; eta_p: {round(eta_p*100,2)} ; eta_w {round(eta_w*100,2)}\")\n",
    "        print('\\n\\n')"
   ]
  },
  {
   "cell_type": "code",
   "execution_count": 6,
   "id": "e5c7ac89",
   "metadata": {},
   "outputs": [],
   "source": [
    "kimia_m_checks = [\n",
    "                '/thesis/checkpoint/BASE/BASE-A-EMB-PAN-11_convnextv2-02_neck_512_3-00_head_A-epoch200.pth',\n",
    "                '/thesis/checkpoint/BASE/BASE-B-EMB-PAN-11_convnextv2-02_neck_512_3-00_head_A-epoch198.pth',\n",
    "                '/thesis/checkpoint/BASE/BASE-C-EMB-PAN-11_convnextv2-02_neck_512_3-00_head_A-epoch199.pth'\n",
    "               ]"
   ]
  },
  {
   "cell_type": "code",
   "execution_count": 7,
   "id": "0dd7d068",
   "metadata": {},
   "outputs": [
    {
     "name": "stdout",
     "output_type": "stream",
     "text": [
      "/thesis/checkpoint/BASE/BASE-A-EMB-PAN-11_convnextv2-02_neck_512_3-00_head_A-epoch200.pth\n",
      "[++] Loaded neck weights. <All keys matched successfully>\n",
      "[++] Loaded head weights. <All keys matched successfully>\n"
     ]
    },
    {
     "name": "stderr",
     "output_type": "stream",
     "text": [
      "100%|██████████| 1325/1325 [00:39<00:00, 33.62it/s]\n"
     ]
    },
    {
     "name": "stdout",
     "output_type": "stream",
     "text": [
      ">> BASE-A-EMB-PAN-11_convnextv2-02_neck_512_3-00_head_A-epoch200\n",
      "eta_tot: 58.0 ; eta_p: 75.25 ; eta_w 77.08\n",
      "\n",
      "\n",
      "\n",
      "/thesis/checkpoint/BASE/BASE-B-EMB-PAN-11_convnextv2-02_neck_512_3-00_head_A-epoch198.pth\n",
      "[++] Loaded neck weights. <All keys matched successfully>\n",
      "[++] Loaded head weights. <All keys matched successfully>\n"
     ]
    },
    {
     "name": "stderr",
     "output_type": "stream",
     "text": [
      "100%|██████████| 1325/1325 [00:39<00:00, 33.53it/s]\n"
     ]
    },
    {
     "name": "stdout",
     "output_type": "stream",
     "text": [
      ">> BASE-B-EMB-PAN-11_convnextv2-02_neck_512_3-00_head_A-epoch198\n",
      "eta_tot: 61.33 ; eta_p: 77.36 ; eta_w 79.28\n",
      "\n",
      "\n",
      "\n",
      "/thesis/checkpoint/BASE/BASE-C-EMB-PAN-11_convnextv2-02_neck_512_3-00_head_A-epoch199.pth\n",
      "[++] Loaded neck weights. <All keys matched successfully>\n",
      "[++] Loaded head weights. <All keys matched successfully>\n"
     ]
    },
    {
     "name": "stderr",
     "output_type": "stream",
     "text": [
      "100%|██████████| 1325/1325 [00:38<00:00, 34.33it/s]\n"
     ]
    },
    {
     "name": "stdout",
     "output_type": "stream",
     "text": [
      ">> BASE-C-EMB-PAN-11_convnextv2-02_neck_512_3-00_head_A-epoch199\n",
      "eta_tot: 57.57 ; eta_p: 75.25 ; eta_w 76.51\n",
      "\n",
      "\n",
      "\n"
     ]
    }
   ],
   "source": [
    "kimia_metrics_from_checkpoint(kimia_m_checks)"
   ]
  },
  {
   "cell_type": "code",
   "execution_count": 8,
   "id": "42b913a7",
   "metadata": {},
   "outputs": [],
   "source": [
    "final_models = ['/thesis/checkpoint/BASE/BASE-EMB-11_convnextv2-02_neck_512_3-00_head_A-epoch10--in1k-224.pth',\n",
    "                '/thesis/checkpoint/BASE/BASE-EMB-KIMIA-11_convnextv2-02_neck_512_3-00_head_A-epoch499.pth'\n",
    "               ]"
   ]
  },
  {
   "cell_type": "code",
   "execution_count": 9,
   "id": "a75c03b3",
   "metadata": {},
   "outputs": [
    {
     "name": "stdout",
     "output_type": "stream",
     "text": [
      "/thesis/checkpoint/BASE/BASE-EMB-11_convnextv2-02_neck_512_3-00_head_A-epoch10--in1k-224.pth\n",
      "[++] Loaded neck weights. <All keys matched successfully>\n",
      "[++] Loaded head weights. <All keys matched successfully>\n"
     ]
    },
    {
     "name": "stderr",
     "output_type": "stream",
     "text": [
      "100%|██████████| 1325/1325 [00:38<00:00, 34.02it/s]\n"
     ]
    },
    {
     "name": "stdout",
     "output_type": "stream",
     "text": [
      ">> BASE-EMB-11_convnextv2-02_neck_512_3-00_head_A-epoch10--in1k-224\n",
      "eta_tot: 53.6 ; eta_p: 72.08 ; eta_w 74.37\n",
      "\n",
      "\n",
      "\n",
      "/thesis/checkpoint/BASE/BASE-EMB-KIMIA-11_convnextv2-02_neck_512_3-00_head_A-epoch499.pth\n",
      "[++] Loaded neck weights. <All keys matched successfully>\n",
      "[++] Loaded head weights. <All keys matched successfully>\n"
     ]
    },
    {
     "name": "stderr",
     "output_type": "stream",
     "text": [
      "100%|██████████| 1325/1325 [00:38<00:00, 34.01it/s]\n"
     ]
    },
    {
     "name": "stdout",
     "output_type": "stream",
     "text": [
      ">> BASE-EMB-KIMIA-11_convnextv2-02_neck_512_3-00_head_A-epoch499\n",
      "eta_tot: 98.87 ; eta_p: 99.4 ; eta_w 99.47\n",
      "\n",
      "\n",
      "\n"
     ]
    }
   ],
   "source": [
    "kimia_metrics_from_checkpoint(final_models)"
   ]
  }
 ],
 "metadata": {
  "kernelspec": {
   "display_name": "Python 3 (ipykernel)",
   "language": "python",
   "name": "python3"
  },
  "language_info": {
   "codemirror_mode": {
    "name": "ipython",
    "version": 3
   },
   "file_extension": ".py",
   "mimetype": "text/x-python",
   "name": "python",
   "nbconvert_exporter": "python",
   "pygments_lexer": "ipython3",
   "version": "3.10.12"
  }
 },
 "nbformat": 4,
 "nbformat_minor": 5
}
